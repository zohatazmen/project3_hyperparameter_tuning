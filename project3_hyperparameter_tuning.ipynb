{
  "nbformat": 4,
  "nbformat_minor": 0,
  "metadata": {
    "colab": {
      "provenance": []
    },
    "kernelspec": {
      "name": "python3",
      "display_name": "Python 3"
    },
    "language_info": {
      "name": "python"
    }
  },
  "cells": [
    {
      "cell_type": "code",
      "execution_count": null,
      "metadata": {
        "colab": {
          "base_uri": "https://localhost:8080/"
        },
        "id": "NIAUdG9trRlk",
        "outputId": "f2611fe6-1083-40bc-f259-a5a7e36d7154"
      },
      "outputs": [
        {
          "output_type": "stream",
          "name": "stdout",
          "text": [
            "   age  sex  cp  trestbps  chol  fbs  restecg  thalach  exang  oldpeak  slope  \\\n",
            "0   63    1   3       145   233    1        0      150      0      2.3      0   \n",
            "1   37    1   2       130   250    0        1      187      0      3.5      0   \n",
            "2   41    0   1       130   204    0        0      172      0      1.4      2   \n",
            "3   56    1   1       120   236    0        1      178      0      0.8      2   \n",
            "4   57    0   0       120   354    0        1      163      1      0.6      2   \n",
            "\n",
            "   ca  thal  target  \n",
            "0   0     1       1  \n",
            "1   0     2       1  \n",
            "2   0     2       1  \n",
            "3   0     2       1  \n",
            "4   0     2       1  \n"
          ]
        }
      ],
      "source": [
        "import numpy as np\n",
        "import pandas as pd\n",
        "import matplotlib.pyplot as plt\n",
        "import seaborn as sns\n",
        "from sklearn.model_selection import train_test_split\n",
        "from sklearn.ensemble import RandomForestClassifier, GradientBoostingClassifier\n",
        "from sklearn.svm import SVC\n",
        "from sklearn.linear_model import LogisticRegression\n",
        "from sklearn.metrics import accuracy_score\n",
        "from sklearn.model_selection import GridSearchCV, RandomizedSearchCV\n",
        "\n",
        "# Load data\n",
        "df = pd.read_csv('/content/heart.csv')\n",
        "print(df.head())"
      ]
    },
    {
      "cell_type": "code",
      "source": [
        "# Separate features and target variable\n",
        "X = df.iloc[:, :-1]\n",
        "y = df.iloc[:, -1]\n",
        "\n",
        "# Split data into training and testing sets\n",
        "X_train, X_test, y_train, y_test = train_test_split(X, y, test_size=0.2, random_state=42)\n",
        "print(f\"Training set shape: {X_train.shape}\")\n",
        "print(f\"Testing set shape: {X_test.shape}\")\n"
      ],
      "metadata": {
        "colab": {
          "base_uri": "https://localhost:8080/"
        },
        "id": "tZ8nYODArzgu",
        "outputId": "4ae76d55-8a84-4667-dcc7-5e16f2398347"
      },
      "execution_count": null,
      "outputs": [
        {
          "output_type": "stream",
          "name": "stdout",
          "text": [
            "Training set shape: (242, 13)\n",
            "Testing set shape: (61, 13)\n"
          ]
        }
      ]
    },
    {
      "cell_type": "code",
      "source": [
        "# Initialize classifiers\n",
        "rf = RandomForestClassifier()\n",
        "gb = GradientBoostingClassifier()\n",
        "svc = SVC()\n",
        "lr = LogisticRegression()\n",
        "\n",
        "# Train and evaluate RandomForestClassifier\n",
        "rf.fit(X_train, y_train)\n",
        "y_pred = rf.predict(X_test)\n",
        "print(f\"RandomForestClassifier accuracy: {accuracy_score(y_test, y_pred)}\")\n",
        "\n",
        "# Train and evaluate GradientBoostingClassifier\n",
        "gb.fit(X_train, y_train)\n",
        "y_pred = gb.predict(X_test)\n",
        "print(f\"GradientBoostingClassifier accuracy: {accuracy_score(y_test, y_pred)}\")\n",
        "\n",
        "# Train and evaluate SVC\n",
        "svc.fit(X_train, y_train)\n",
        "y_pred = svc.predict(X_test)\n",
        "print(f\"SVC accuracy: {accuracy_score(y_test, y_pred)}\")\n",
        "\n",
        "# Train and evaluate LogisticRegression\n",
        "lr.fit(X_train, y_train)\n",
        "y_pred = lr.predict(X_test)\n",
        "print(f\"LogisticRegression accuracy: {accuracy_score(y_test, y_pred)}\")"
      ],
      "metadata": {
        "colab": {
          "base_uri": "https://localhost:8080/"
        },
        "id": "G_0peh_rr3CD",
        "outputId": "eac1d683-8080-4be7-d207-8a77a92651c8"
      },
      "execution_count": null,
      "outputs": [
        {
          "output_type": "stream",
          "name": "stdout",
          "text": [
            "RandomForestClassifier accuracy: 0.8360655737704918\n",
            "GradientBoostingClassifier accuracy: 0.7704918032786885\n",
            "SVC accuracy: 0.7049180327868853\n",
            "LogisticRegression accuracy: 0.8852459016393442\n"
          ]
        },
        {
          "output_type": "stream",
          "name": "stderr",
          "text": [
            "/usr/local/lib/python3.10/dist-packages/sklearn/linear_model/_logistic.py:458: ConvergenceWarning: lbfgs failed to converge (status=1):\n",
            "STOP: TOTAL NO. of ITERATIONS REACHED LIMIT.\n",
            "\n",
            "Increase the number of iterations (max_iter) or scale the data as shown in:\n",
            "    https://scikit-learn.org/stable/modules/preprocessing.html\n",
            "Please also refer to the documentation for alternative solver options:\n",
            "    https://scikit-learn.org/stable/modules/linear_model.html#logistic-regression\n",
            "  n_iter_i = _check_optimize_result(\n"
          ]
        }
      ]
    },
    {
      "cell_type": "code",
      "source": [
        "# Reduced parameter grid for GridSearchCV\n",
        "param_grid = {\n",
        "    'n_estimators': [20, 60],\n",
        "    'max_features': [0.2, 0.6],\n",
        "    'max_depth': [2, 8],\n",
        "    'max_samples': [0.5, 0.75]\n",
        "}\n",
        "\n",
        "# Initialize GridSearchCV\n",
        "rf_grid = GridSearchCV(estimator=rf, param_grid=param_grid, cv=5, verbose=2, n_jobs=-1)\n",
        "\n",
        "# Fit GridSearchCV\n",
        "rf_grid.fit(X_train, y_train)\n",
        "\n",
        "# Print best parameters and best score\n",
        "print(f\"Best parameters found by GridSearchCV: {rf_grid.best_params_}\")\n",
        "print(f\"Best score found by GridSearchCV: {rf_grid.best_score_}\")\n"
      ],
      "metadata": {
        "colab": {
          "base_uri": "https://localhost:8080/"
        },
        "id": "XgyNihRnr6fH",
        "outputId": "9ab09edd-ae88-4048-acae-d32dbe8d832b"
      },
      "execution_count": null,
      "outputs": [
        {
          "output_type": "stream",
          "name": "stdout",
          "text": [
            "Fitting 5 folds for each of 16 candidates, totalling 80 fits\n",
            "Best parameters found by GridSearchCV: {'max_depth': 2, 'max_features': 0.2, 'max_samples': 0.75, 'n_estimators': 60}\n",
            "Best score found by GridSearchCV: 0.8304421768707483\n"
          ]
        }
      ]
    },
    {
      "cell_type": "code",
      "source": [
        "# Define parameter distributions for RandomizedSearchCV\n",
        "param_dist = {\n",
        "    'n_estimators': [20, 60, 100, 120],\n",
        "    'max_features': [0.2, 0.6, 1.0],\n",
        "    'max_depth': [2, 8, None],\n",
        "    'max_samples': [0.5, 0.75, 1.0],\n",
        "    'bootstrap': [True, False],\n",
        "    'min_samples_split': [2, 5],\n",
        "    'min_samples_leaf': [1, 2]\n",
        "}\n",
        "\n",
        "# Initialize RandomizedSearchCV\n",
        "rf_random = RandomizedSearchCV(estimator=rf, param_distributions=param_dist, n_iter=10, cv=5, verbose=2, n_jobs=-1, random_state=42)\n",
        "\n",
        "# Fit RandomizedSearchCV\n",
        "rf_random.fit(X_train, y_train)\n",
        "\n",
        "# Print best parameters and best score\n",
        "print(f\"Best parameters found by RandomizedSearchCV: {rf_random.best_params_}\")\n",
        "print(f\"Best score found by RandomizedSearchCV: {rf_random.best_score_}\")\n"
      ],
      "metadata": {
        "colab": {
          "base_uri": "https://localhost:8080/"
        },
        "id": "O1u0xZhVsmDl",
        "outputId": "4694c6ee-94a9-4654-8bdc-7afbee713f9a"
      },
      "execution_count": null,
      "outputs": [
        {
          "output_type": "stream",
          "name": "stdout",
          "text": [
            "Fitting 5 folds for each of 10 candidates, totalling 50 fits\n"
          ]
        },
        {
          "output_type": "stream",
          "name": "stderr",
          "text": [
            "/usr/local/lib/python3.10/dist-packages/sklearn/model_selection/_validation.py:378: FitFailedWarning: \n",
            "25 fits failed out of a total of 50.\n",
            "The score on these train-test partitions for these parameters will be set to nan.\n",
            "If these failures are not expected, you can try to debug them by setting error_score='raise'.\n",
            "\n",
            "Below are more details about the failures:\n",
            "--------------------------------------------------------------------------------\n",
            "25 fits failed with the following error:\n",
            "Traceback (most recent call last):\n",
            "  File \"/usr/local/lib/python3.10/dist-packages/sklearn/model_selection/_validation.py\", line 686, in _fit_and_score\n",
            "    estimator.fit(X_train, y_train, **fit_params)\n",
            "  File \"/usr/local/lib/python3.10/dist-packages/sklearn/ensemble/_forest.py\", line 397, in fit\n",
            "    raise ValueError(\n",
            "ValueError: `max_sample` cannot be set if `bootstrap=False`. Either switch to `bootstrap=True` or set `max_sample=None`.\n",
            "\n",
            "  warnings.warn(some_fits_failed_message, FitFailedWarning)\n",
            "/usr/local/lib/python3.10/dist-packages/sklearn/model_selection/_search.py:952: UserWarning: One or more of the test scores are non-finite: [0.79753401        nan        nan 0.80552721 0.83460884 0.81828231\n",
            "        nan 0.81802721        nan        nan]\n",
            "  warnings.warn(\n"
          ]
        },
        {
          "output_type": "stream",
          "name": "stdout",
          "text": [
            "Best parameters found by RandomizedSearchCV: {'n_estimators': 120, 'min_samples_split': 5, 'min_samples_leaf': 1, 'max_samples': 0.75, 'max_features': 0.2, 'max_depth': 2, 'bootstrap': True}\n",
            "Best score found by RandomizedSearchCV: 0.8346088435374149\n"
          ]
        }
      ]
    },
    {
      "cell_type": "code",
      "source": [
        "# Initialize GridSearchCV with fewer folds\n",
        "rf_grid = GridSearchCV(estimator=rf, param_grid=param_grid, cv=3, verbose=2, n_jobs=-1)\n"
      ],
      "metadata": {
        "id": "wgvesDFAsrwd"
      },
      "execution_count": null,
      "outputs": []
    }
  ]
}